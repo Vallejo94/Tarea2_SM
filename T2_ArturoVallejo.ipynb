{
 "cells": [
  {
   "cell_type": "markdown",
   "metadata": {},
   "source": [
    "# Tarea 2\n",
    "### Resumen de 2 articulos, pero utilizando herramientas como Gitkraken guardado en un repositorio de Github."
   ]
  },
  {
   "cell_type": "markdown",
   "metadata": {},
   "source": [
    "# Primer resumen.\n",
    "### Tema:Por qué Python es tan popular entre los desarrolladores: 3 razones por las que el lenguaje ha explotado\n",
    "### [Pagina de internet de referencia.](https://www.techrepublic.com/article/why-python-is-so-popular-with-developers-3-reasons-the-language-has-exploded/)\n",
    "![](https://programacion.net/files/article/20160603020635_python-logo.png)\n",
    "\n",
    "\n",
    "**Python** con un lnguaje tan facil en el mundo de los programadores y desarrolladores de software,a tenido un un crecimiento muy grande entre estos mismos y a abierto puertas para que la gente se anime a empezar a programar, no como antes que solo se pensaba que era algo muy dificil de lograr.\n",
    "\n",
    "Según Kristen Sosulski profesora de una escuela de negocios de Ney york dice: python es popular por su basto conjunto de bibliotecas convirtiendolo en un lenguaje de programacion dinamico y veloz, ante los ya existentes, en el año 2018 python se convirtio en el lenguaje de programacion mas visitado del mundo.\n",
    "\n",
    "Las tasas de crecimiento en 2018, eran altas en todas las industrias, de todas las areas, y lo curioso es que solo sube su utilizacion, no baja en ningun area de industria.\n",
    "\n",
    "Esto se debe a que las empresas se dieron cuenta que hay un mejor rendimiento, si capacitan o contrantan a personas que utilizen python, para que sus datos los usen y puedan tomar mejores deciciones.\n",
    "\n",
    "#### 3 razones por que Python domina el espacio de programación.\n",
    "\n",
    "1. **Facilidad de Aprendizaje**\n",
    "\n",
    "Python esta en el Ranking de los lenguajes de programación mas sencillos de aprender, dado su sintaxis simple, y reducccion en lineas de codigo comparandolos con los principales lenguajes de programación ya sea JAVA o C++\n",
    "\n",
    "2. **Una IA, aprendeizaje automatico y ciencia de datos en una empresa**\n",
    "\n",
    "Se descubrio un crecimiento considerable en el uso de pyhon, en el area de predicciones, coleccion de datos y aprendizaje automatico de estos mismos. \n",
    "Enfocados en desarrollo de inteligencias artificiales por ejemplo.\n",
    "\n",
    "3. **Gran comunidad de desarrolladores**\n",
    "\n",
    "Existen en python una gran cantidad de bibliotecas de codigo abierto disponibles tal vez para la solucion de ese problema que no puedes solucionar.\n",
    "\n",
    "Esto desde mi punto de vista abre muchas puertas para todos, ya que se esta compartiendo el conocimiento, por ejemplo si tu tienes una empresa y tienes X problema, podrias buscar una solucion tal vez en una empresa China que tenia el mismo problema, lo soluciono y lo compartio con la cumunidad, y probablemente de ahi puedas partir y quien sabe quiza optimizar su solucion, ayudarte a ti y ayudarlos a ellos, esto es muy importante para mi, por que ya estamos trabajando en conjunto y no separados.\n",
    "\n",
    "\n",
    "\n",
    "\n",
    "\n",
    "\n"
   ]
  },
  {
   "cell_type": "markdown",
   "metadata": {},
   "source": [
    "# Segundo resumen.\n",
    "### Tema:Lenguaje de programación del año? Python se destaca en los últimos rankings\n",
    "### [Pagina de internet de referencia.](https://www.zdnet.com/article/programming-language-of-the-year-python-is-standout-in-latest-rankings/)\n",
    "\n",
    "**Python cosolida su lugar como lenguaje de programación en el los tres primeros a largo plazo**     _8 de enero de 2019_\n",
    "![](https://files.realpython.com/media/Matlab-vs-Python_Watermarked.78d19c0990ea.jpg)\n",
    "\n",
    "#### 20 lenguages de programación mas pupulares en el año 2018\n",
    "![](https://zdnet4.cbsistatic.com/hub/i/2019/01/08/87e0bef8-de55-4833-85d8-f5055d04020b/tiobepythonjan19.jpg)\n",
    "\n",
    "Python sorprendio el año 2018 con 3.62 puntos porcentuales en el indice de 2019 de Tiobe, superando a Visual basic. NET y a JAVA, siendo ellos el segundo y primer lugar, python fue desarrollado en 1989 por un programador Holandés. \n",
    "\n",
    "Python a menudo es el primer idioma que se enseña en universidades, debido a su simplesa en lo que a su lexico respecta, osea para que los alumnos no corran en cuanto vean un lenguaje mas complicado, tambien es el lenguaje mas popular entre los hackers debido a su facilidad y tutoriales simples.\n",
    "\n",
    "Matlab y Kotiln tuvieron avances positivos en 2018, pero programas como Ruby, Erlang y F# tuvieron avances negativos. \n",
    "\n",
    "En resumem:\n",
    "\n",
    "Los 20 idiomas principales en orden descendente para enero de 2019 fueron **Java, C, Python, C ++, Visual Basic .NET, JavaScript, C #, PHP, SQL, Objective-C, MATLAB, R, Perl, lenguaje ensamblador, Swift, Go, Delphi / Object Pascal, Ruby, PL / SQL y Visual Basic.**\n",
    "\n",
    "\n",
    "\n"
   ]
  },
  {
   "cell_type": "code",
   "execution_count": null,
   "metadata": {},
   "outputs": [],
   "source": []
  }
 ],
 "metadata": {
  "kernelspec": {
   "display_name": "Python 3",
   "language": "python",
   "name": "python3"
  },
  "language_info": {
   "codemirror_mode": {
    "name": "ipython",
    "version": 3
   },
   "file_extension": ".py",
   "mimetype": "text/x-python",
   "name": "python",
   "nbconvert_exporter": "python",
   "pygments_lexer": "ipython3",
   "version": "3.7.4"
  }
 },
 "nbformat": 4,
 "nbformat_minor": 2
}
